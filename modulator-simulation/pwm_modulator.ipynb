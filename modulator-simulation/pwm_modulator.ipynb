{
 "cells": [
  {
   "cell_type": "code",
   "execution_count": 1,
   "outputs": [
    {
     "name": "stdout",
     "output_type": "stream",
     "text": [
      "simulation duration: 0.37s\n"
     ]
    }
   ],
   "source": [
    "SAMPLERATE = 44100 # Hz\n",
    "SAMPLES = 2**14\n",
    "FREQ = 1000 # Hz\n",
    "AMPLITUDE = 1e-14\n",
    "\n",
    "DURATION = SAMPLES / SAMPLERATE\n",
    "print(\"simulation duration: {:.2f}s\".format(DURATION))"
   ],
   "metadata": {
    "collapsed": false,
    "pycharm": {
     "name": "#%%\n"
    }
   }
  },
  {
   "cell_type": "code",
   "execution_count": 2,
   "outputs": [],
   "source": [
    "import numpy as np\n",
    "from numba import jit\n",
    "from plot_utils import *\n",
    "init_plot(DURATION, FREQ, SAMPLERATE)"
   ],
   "metadata": {
    "collapsed": false,
    "pycharm": {
     "name": "#%%\n"
    }
   }
  },
  {
   "cell_type": "markdown",
   "source": [
    "generate the input data"
   ],
   "metadata": {
    "collapsed": false
   }
  },
  {
   "cell_type": "code",
   "execution_count": 3,
   "outputs": [
    {
     "name": "stdout",
     "output_type": "stream",
     "text": [
      "[FrameInfo(frame=<frame at 0x7f36779e6040, file '/home/anuejn/code/class-d-igital/modulator-simulation/plot_utils.py', line 48, code plot_signals>, filename='/home/anuejn/code/class-d-igital/modulator-simulation/plot_utils.py', lineno=47, function='plot_signals', code_context=['    stack = inspect.stack()\\n'], index=0), FrameInfo(frame=<frame at 0x7f36769c9230, file '<ipython-input-3-adb47e12aa31>', line 4, code <module>>, filename='<ipython-input-3-adb47e12aa31>', lineno=4, function='<module>', code_context=['plot_signals(input_samples)\\n'], index=0), FrameInfo(frame=<frame at 0x557c855b25a0, file '/home/anuejn/code/XC9500/venv/lib/python3.8/site-packages/IPython/core/interactiveshell.py', line 3319, code run_code>, filename='/home/anuejn/code/XC9500/venv/lib/python3.8/site-packages/IPython/core/interactiveshell.py', lineno=3319, function='run_code', code_context=['                    exec(code_obj, self.user_global_ns, self.user_ns)\\n'], index=0), FrameInfo(frame=<frame at 0x557c855ba1b0, file '/home/anuejn/code/XC9500/venv/lib/python3.8/site-packages/IPython/core/interactiveshell.py', line 3242, code run_ast_nodes>, filename='/home/anuejn/code/XC9500/venv/lib/python3.8/site-packages/IPython/core/interactiveshell.py', lineno=3242, function='run_ast_nodes', code_context=['                    if (await self.run_code(code, result,  async_=asy)):\\n'], index=0), FrameInfo(frame=<frame at 0x557c855bd570, file '/home/anuejn/code/XC9500/venv/lib/python3.8/site-packages/IPython/core/interactiveshell.py', line 3050, code run_cell_async>, filename='/home/anuejn/code/XC9500/venv/lib/python3.8/site-packages/IPython/core/interactiveshell.py', lineno=3050, function='run_cell_async', code_context=['                has_raised = await self.run_ast_nodes(code_ast.body, cell_name,\\n'], index=0), FrameInfo(frame=<frame at 0x7f36ac51f7c0, file '/home/anuejn/code/XC9500/venv/lib/python3.8/site-packages/IPython/core/async_helpers.py', line 68, code _pseudo_sync_runner>, filename='/home/anuejn/code/XC9500/venv/lib/python3.8/site-packages/IPython/core/async_helpers.py', lineno=68, function='_pseudo_sync_runner', code_context=['        coro.send(None)\\n'], index=0), FrameInfo(frame=<frame at 0x557c85560a50, file '/home/anuejn/code/XC9500/venv/lib/python3.8/site-packages/IPython/core/interactiveshell.py', line 2874, code _run_cell>, filename='/home/anuejn/code/XC9500/venv/lib/python3.8/site-packages/IPython/core/interactiveshell.py', lineno=2874, function='_run_cell', code_context=['            return runner(coro)\\n'], index=0), FrameInfo(frame=<frame at 0x7f36ac522640, file '/home/anuejn/code/XC9500/venv/lib/python3.8/site-packages/IPython/core/interactiveshell.py', line 2847, code run_cell>, filename='/home/anuejn/code/XC9500/venv/lib/python3.8/site-packages/IPython/core/interactiveshell.py', lineno=2847, function='run_cell', code_context=['            result = self._run_cell(\\n'], index=0), FrameInfo(frame=<frame at 0x7f36ac524740, file '/home/anuejn/code/XC9500/venv/lib/python3.8/site-packages/ipykernel/zmqshell.py', line 536, code run_cell>, filename='/home/anuejn/code/XC9500/venv/lib/python3.8/site-packages/ipykernel/zmqshell.py', lineno=536, function='run_cell', code_context=['        return super(ZMQInteractiveShell, self).run_cell(*args, **kwargs)\\n'], index=0), FrameInfo(frame=<frame at 0x557c855f7060, file '/home/anuejn/code/XC9500/venv/lib/python3.8/site-packages/ipykernel/ipkernel.py', line 300, code do_execute>, filename='/home/anuejn/code/XC9500/venv/lib/python3.8/site-packages/ipykernel/ipkernel.py', lineno=300, function='do_execute', code_context=['                res = shell.run_cell(code, store_history=store_history, silent=silent)\\n'], index=0), FrameInfo(frame=<frame at 0x557c85609c20, file '/home/anuejn/code/XC9500/venv/lib/python3.8/site-packages/tornado/gen.py', line 209, code wrapper>, filename='/home/anuejn/code/XC9500/venv/lib/python3.8/site-packages/tornado/gen.py', lineno=209, function='wrapper', code_context=['                    yielded = next(result)\\n'], index=0), FrameInfo(frame=<frame at 0x557c855b27e0, file '/home/anuejn/code/XC9500/venv/lib/python3.8/site-packages/ipykernel/kernelbase.py', line 539, code execute_request>, filename='/home/anuejn/code/XC9500/venv/lib/python3.8/site-packages/ipykernel/kernelbase.py', lineno=539, function='execute_request', code_context=['            self.do_execute(\\n'], index=0), FrameInfo(frame=<frame at 0x557c85608d30, file '/home/anuejn/code/XC9500/venv/lib/python3.8/site-packages/tornado/gen.py', line 209, code wrapper>, filename='/home/anuejn/code/XC9500/venv/lib/python3.8/site-packages/tornado/gen.py', lineno=209, function='wrapper', code_context=['                    yielded = next(result)\\n'], index=0), FrameInfo(frame=<frame at 0x557c8555f470, file '/home/anuejn/code/XC9500/venv/lib/python3.8/site-packages/ipykernel/kernelbase.py', line 268, code dispatch_shell>, filename='/home/anuejn/code/XC9500/venv/lib/python3.8/site-packages/ipykernel/kernelbase.py', lineno=268, function='dispatch_shell', code_context=['                yield gen.maybe_future(handler(stream, idents, msg))\\n'], index=0), FrameInfo(frame=<frame at 0x557c8560ab00, file '/home/anuejn/code/XC9500/venv/lib/python3.8/site-packages/tornado/gen.py', line 209, code wrapper>, filename='/home/anuejn/code/XC9500/venv/lib/python3.8/site-packages/tornado/gen.py', lineno=209, function='wrapper', code_context=['                    yielded = next(result)\\n'], index=0), FrameInfo(frame=<frame at 0x7f36ac50b9f0, file '/home/anuejn/code/XC9500/venv/lib/python3.8/site-packages/ipykernel/kernelbase.py', line 361, code process_one>, filename='/home/anuejn/code/XC9500/venv/lib/python3.8/site-packages/ipykernel/kernelbase.py', lineno=361, function='process_one', code_context=['        yield gen.maybe_future(dispatch(*args))\\n'], index=0), FrameInfo(frame=<frame at 0x7f3676c47840, file '/home/anuejn/code/XC9500/venv/lib/python3.8/site-packages/tornado/gen.py', line 748, code run>, filename='/home/anuejn/code/XC9500/venv/lib/python3.8/site-packages/tornado/gen.py', lineno=748, function='run', code_context=['                        yielded = self.gen.send(value)\\n'], index=0), FrameInfo(frame=<frame at 0x7f36ac5161e0, file '/home/anuejn/code/XC9500/venv/lib/python3.8/site-packages/tornado/gen.py', line 787, code inner>, filename='/home/anuejn/code/XC9500/venv/lib/python3.8/site-packages/tornado/gen.py', lineno=787, function='inner', code_context=['                self.run()\\n'], index=0), FrameInfo(frame=<frame at 0x7f36ac52f420, file '/home/anuejn/code/XC9500/venv/lib/python3.8/site-packages/tornado/ioloop.py', line 743, code _run_callback>, filename='/home/anuejn/code/XC9500/venv/lib/python3.8/site-packages/tornado/ioloop.py', lineno=743, function='_run_callback', code_context=['            ret = callback()\\n'], index=0), FrameInfo(frame=<frame at 0x7f36ac5143e0, file '/home/anuejn/code/XC9500/venv/lib/python3.8/site-packages/tornado/ioloop.py', line 690, code <lambda>>, filename='/home/anuejn/code/XC9500/venv/lib/python3.8/site-packages/tornado/ioloop.py', lineno=690, function='<lambda>', code_context=['                lambda f: self._run_callback(functools.partial(callback, future))\\n'], index=0), FrameInfo(frame=<frame at 0x557c855eabd0, file '/usr/lib/python3.8/asyncio/events.py', line 81, code _run>, filename='/usr/lib/python3.8/asyncio/events.py', lineno=81, function='_run', code_context=['            self._context.run(self._callback, *self._args)\\n'], index=0), FrameInfo(frame=<frame at 0x557c855b3cd0, file '/usr/lib/python3.8/asyncio/base_events.py', line 1859, code _run_once>, filename='/usr/lib/python3.8/asyncio/base_events.py', lineno=1859, function='_run_once', code_context=['                handle._run()\\n'], index=0), FrameInfo(frame=<frame at 0x7f36ac50c7c0, file '/usr/lib/python3.8/asyncio/base_events.py', line 570, code run_forever>, filename='/usr/lib/python3.8/asyncio/base_events.py', lineno=570, function='run_forever', code_context=['                self._run_once()\\n'], index=0), FrameInfo(frame=<frame at 0x7f36ac50c5e0, file '/home/anuejn/code/XC9500/venv/lib/python3.8/site-packages/tornado/platform/asyncio.py', line 148, code start>, filename='/home/anuejn/code/XC9500/venv/lib/python3.8/site-packages/tornado/platform/asyncio.py', lineno=148, function='start', code_context=['            self.asyncio_loop.run_forever()\\n'], index=0), FrameInfo(frame=<frame at 0x7f36b069fa40, file '/home/anuejn/code/XC9500/venv/lib/python3.8/site-packages/ipykernel/kernelapp.py', line 563, code start>, filename='/home/anuejn/code/XC9500/venv/lib/python3.8/site-packages/ipykernel/kernelapp.py', lineno=563, function='start', code_context=['            self.io_loop.start()\\n'], index=0), FrameInfo(frame=<frame at 0x557c854c09d0, file '/home/anuejn/code/XC9500/venv/lib/python3.8/site-packages/traitlets/config/application.py', line 664, code launch_instance>, filename='/home/anuejn/code/XC9500/venv/lib/python3.8/site-packages/traitlets/config/application.py', lineno=664, function='launch_instance', code_context=['        app.start()\\n'], index=0), FrameInfo(frame=<frame at 0x7f36b218d200, file '/home/anuejn/code/XC9500/venv/lib/python3.8/site-packages/ipykernel_launcher.py', line 16, code <module>>, filename='/home/anuejn/code/XC9500/venv/lib/python3.8/site-packages/ipykernel_launcher.py', lineno=16, function='<module>', code_context=['    app.launch_new_instance()\\n'], index=0), FrameInfo(frame=<frame at 0x557c84ec6040, file '/usr/lib/python3.8/runpy.py', line 87, code _run_code>, filename='/usr/lib/python3.8/runpy.py', lineno=87, function='_run_code', code_context=['    exec(code, run_globals)\\n'], index=0), FrameInfo(frame=<frame at 0x557c84eaa680, file '/usr/lib/python3.8/runpy.py', line 194, code _run_module_as_main>, filename='/usr/lib/python3.8/runpy.py', lineno=194, function='_run_module_as_main', code_context=['    return _run_code(code, main_globals, None,\\n'], index=0)]\n"
     ]
    },
    {
     "data": {
      "text/plain": "<Figure size 432x288 with 1 Axes>",
      "image/png": "[encoded data removed]"
     },
     "metadata": {
      "needs_background": "light"
     },
     "output_type": "display_data"
    },
    {
     "ename": "NameError",
     "evalue": "name 'stack' is not defined",
     "output_type": "error",
     "traceback": [
      "\u001B[0;31m---------------------------------------------------------------------------\u001B[0m",
      "\u001B[0;31mNameError\u001B[0m                                 Traceback (most recent call last)",
      "\u001B[0;32m<ipython-input-3-adb47e12aa31>\u001B[0m in \u001B[0;36m<module>\u001B[0;34m\u001B[0m\n\u001B[1;32m      2\u001B[0m \u001B[0msin\u001B[0m \u001B[0;34m=\u001B[0m \u001B[0mnp\u001B[0m\u001B[0;34m.\u001B[0m\u001B[0msin\u001B[0m\u001B[0;34m(\u001B[0m\u001B[0mt\u001B[0m \u001B[0;34m*\u001B[0m \u001B[0;36m2\u001B[0m \u001B[0;34m*\u001B[0m \u001B[0mnp\u001B[0m\u001B[0;34m.\u001B[0m\u001B[0mpi\u001B[0m \u001B[0;34m*\u001B[0m \u001B[0mFREQ\u001B[0m\u001B[0;34m)\u001B[0m \u001B[0;34m*\u001B[0m \u001B[0mAMPLITUDE\u001B[0m\u001B[0;34m\u001B[0m\u001B[0;34m\u001B[0m\u001B[0m\n\u001B[1;32m      3\u001B[0m \u001B[0minput_samples\u001B[0m \u001B[0;34m=\u001B[0m \u001B[0;34m(\u001B[0m\u001B[0msin\u001B[0m \u001B[0;34m+\u001B[0m \u001B[0;36m1\u001B[0m\u001B[0;34m)\u001B[0m \u001B[0;34m/\u001B[0m \u001B[0;36m2\u001B[0m\u001B[0;34m\u001B[0m\u001B[0;34m\u001B[0m\u001B[0m\n\u001B[0;32m----> 4\u001B[0;31m \u001B[0mplot_signals\u001B[0m\u001B[0;34m(\u001B[0m\u001B[0minput_samples\u001B[0m\u001B[0;34m)\u001B[0m\u001B[0;34m\u001B[0m\u001B[0;34m\u001B[0m\u001B[0m\n\u001B[0m\u001B[1;32m      5\u001B[0m \u001B[0;34m\u001B[0m\u001B[0m\n",
      "\u001B[0;32m~/code/class-d-igital/modulator-simulation/plot_utils.py\u001B[0m in \u001B[0;36mplot_signals\u001B[0;34m(*signals)\u001B[0m\n\u001B[1;32m     48\u001B[0m     \u001B[0mprint\u001B[0m\u001B[0;34m(\u001B[0m\u001B[0mstack\u001B[0m\u001B[0;34m)\u001B[0m\u001B[0;34m\u001B[0m\u001B[0;34m\u001B[0m\u001B[0m\n\u001B[1;32m     49\u001B[0m     \u001B[0mplot_one_wave\u001B[0m\u001B[0;34m(\u001B[0m\u001B[0;34m*\u001B[0m\u001B[0msignals\u001B[0m\u001B[0;34m)\u001B[0m\u001B[0;34m\u001B[0m\u001B[0;34m\u001B[0m\u001B[0m\n\u001B[0;32m---> 50\u001B[0;31m     \u001B[0mplot_spectrum\u001B[0m\u001B[0;34m(\u001B[0m\u001B[0;34m*\u001B[0m\u001B[0msignals\u001B[0m\u001B[0;34m)\u001B[0m\u001B[0;34m\u001B[0m\u001B[0;34m\u001B[0m\u001B[0m\n\u001B[0m",
      "\u001B[0;32m~/code/class-d-igital/modulator-simulation/plot_utils.py\u001B[0m in \u001B[0;36mplot_spectrum\u001B[0;34m(log, *signals)\u001B[0m\n\u001B[1;32m     24\u001B[0m \u001B[0;32mdef\u001B[0m \u001B[0mplot_spectrum\u001B[0m\u001B[0;34m(\u001B[0m\u001B[0;34m*\u001B[0m\u001B[0msignals\u001B[0m\u001B[0;34m,\u001B[0m \u001B[0mlog\u001B[0m\u001B[0;34m=\u001B[0m\u001B[0;32mTrue\u001B[0m\u001B[0;34m)\u001B[0m\u001B[0;34m:\u001B[0m\u001B[0;34m\u001B[0m\u001B[0;34m\u001B[0m\u001B[0m\n\u001B[1;32m     25\u001B[0m \u001B[0;34m\u001B[0m\u001B[0m\n\u001B[0;32m---> 26\u001B[0;31m     \u001B[0mprint\u001B[0m\u001B[0;34m(\u001B[0m\u001B[0mstack\u001B[0m\u001B[0;34m)\u001B[0m\u001B[0;34m\u001B[0m\u001B[0;34m\u001B[0m\u001B[0m\n\u001B[0m\u001B[1;32m     27\u001B[0m     \u001B[0mplt\u001B[0m\u001B[0;34m.\u001B[0m\u001B[0mtitle\u001B[0m\u001B[0;34m(\u001B[0m\u001B[0;34m'Spectrum'\u001B[0m\u001B[0;34m)\u001B[0m\u001B[0;34m\u001B[0m\u001B[0;34m\u001B[0m\u001B[0m\n\u001B[1;32m     28\u001B[0m     \u001B[0mplt\u001B[0m\u001B[0;34m.\u001B[0m\u001B[0mgrid\u001B[0m\u001B[0;34m(\u001B[0m\u001B[0;34m)\u001B[0m\u001B[0;34m\u001B[0m\u001B[0;34m\u001B[0m\u001B[0m\n",
      "\u001B[0;31mNameError\u001B[0m: name 'stack' is not defined"
     ]
    }
   ],
   "source": [
    "t = np.linspace(0, DURATION, SAMPLES)\n",
    "sin = np.sin(t * 2 * np.pi * FREQ) * AMPLITUDE\n",
    "input_samples = (sin + 1) / 2\n",
    "plot_signals(input_samples)"
   ],
   "metadata": {
    "collapsed": false,
    "pycharm": {
     "name": "#%%\n"
    }
   }
  },
  {
   "cell_type": "markdown",
   "source": [
    "next, we pass the input through a modulator"
   ],
   "metadata": {
    "collapsed": false,
    "pycharm": {
     "name": "#%% md\n",
     "is_executing": false
    }
   }
  },
  {
   "cell_type": "code",
   "execution_count": null,
   "outputs": [],
   "source": [
    "from scipy.signal import resample\n",
    "\n",
    "def modulate_pwm(input, *, n_bits, oversampling_ratio):\n",
    "    resampled = resample(input, len(input) * oversampling_ratio)\n",
    "    \n",
    "    quantized_samples = np.array(np.round(resampled * 2**n_bits), dtype=int)\n",
    "    \n",
    "    @jit(nopython=True, parallel=True)\n",
    "    def loop():\n",
    "        output = np.zeros(len(resampled) * 2**n_bits)\n",
    "        for i, sample in enumerate(quantized_samples):\n",
    "            for j in range(sample):\n",
    "                output[(i * 2**n_bits) + j] = True\n",
    "        return output\n",
    "    return loop()\n",
    "\n",
    "modulated = modulate_pwm(input_samples, n_bits=8, oversampling_ratio=10)\n",
    "plot_signals(modulated)"
   ],
   "metadata": {
    "collapsed": false,
    "pycharm": {
     "name": "#%%\n"
    }
   }
  },
  {
   "cell_type": "code",
   "execution_count": null,
   "outputs": [],
   "source": [
    "oversampled_rate = len(modulated) / DURATION\n",
    "print(\"oversampled rate is {:.2f}Mhz. oversampling factor is {}\".format((oversampled_rate / 10e6), oversampled_rate // SAMPLERATE))\n",
    "\n",
    "changes = np.sum(modulated[:-1] != modulated[1:]) / 2\n",
    "switching_rate = changes / DURATION\n",
    "print(\"average switching frequency is {:.2f}kHz\".format(switching_rate / 1000))"
   ],
   "metadata": {
    "collapsed": false,
    "pycharm": {
     "name": "#%%\n"
    }
   }
  },
  {
   "cell_type": "markdown",
   "source": [
    "now we downsample the signal again and do lowpass filtering\n",
    "this step can be further tweaked and needs to reflect the parameters of the real hardware"
   ],
   "metadata": {
    "collapsed": false,
    "pycharm": {
     "name": "#%% md\n"
    }
   }
  },
  {
   "cell_type": "code",
   "execution_count": null,
   "outputs": [],
   "source": [
    "from scipy.signal import decimate\n",
    "decimated = decimate(modulated, int(oversampled_rate / SAMPLERATE), ftype=\"fir\")\n",
    "plot_signals(decimated)"
   ],
   "metadata": {
    "collapsed": false,
    "pycharm": {
     "name": "#%%\n"
    }
   }
  },
  {
   "cell_type": "markdown",
   "source": [
    "then we analyze the quality of the downsampled signal"
   ],
   "metadata": {
    "collapsed": false,
    "pycharm": {
     "name": "#%% md\n"
    }
   }
  },
  {
   "cell_type": "code",
   "execution_count": null,
   "outputs": [],
   "source": [
    "from scipy.signal import correlate\n",
    "\n",
    "shift = 0 # np.argmax(correlate(input_samples, decimated)) % int((1 / FREQ) * SAMPLERATE)\n",
    "print(\"phase shift is {} samples ({:.2f}ms)\".format(shift, shift / SAMPLERATE * 1000))\n",
    "\n",
    "decimated_s, input_s = decimated[:(-shift if shift != 0 else len(decimated))], input_samples[shift:]\n",
    "\n",
    "noise = decimated_s - input_s\n",
    "\n",
    "plot_signals(input_s, decimated_s, noise)\n",
    "plot_spectrum(noise)\n",
    "noise_level = np.abs(np.average(noise))\n",
    "print(\"Noise Level: {:.2f}dB\".format(np.log10(noise_level) * 10))\n",
    "print(\"SNR: {:.2f}dB\".format(np.log10(np.average(input_samples) / noise_level) * 10))"
   ],
   "metadata": {
    "collapsed": false,
    "pycharm": {
     "name": "#%%\n"
    }
   }
  }
 ],
 "metadata": {
  "kernelspec": {
   "display_name": "Python 3",
   "language": "python",
   "name": "python3"
  },
  "language_info": {
   "codemirror_mode": {
    "name": "ipython",
    "version": 2
   },
   "file_extension": ".py",
   "mimetype": "text/x-python",
   "name": "python",
   "nbconvert_exporter": "python",
   "pygments_lexer": "ipython2",
   "version": "2.7.6"
  }
 },
 "nbformat": 4,
 "nbformat_minor": 0
}